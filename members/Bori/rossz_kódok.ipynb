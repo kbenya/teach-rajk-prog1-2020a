{
 "cells": [
  {
   "cell_type": "markdown",
   "metadata": {},
   "source": [
    "### Mi a hiba az alábbi kódokban? Javítsd ki őket!"
   ]
  },
  {
   "cell_type": "markdown",
   "metadata": {},
   "source": [
    "#### Annyi jupyter tutor, ami ehhez a házihoz remélhetőleg elég lesz.\n",
    "\n",
    "- Úgy jelöltök ki cellát, hogy belekattintotok.\n",
    "- A kijelölt cellát a nagy RUN gombra kattinva tudjátok lefuttatni. Illeve a CTRL+ENTER és SHIFT+ENTER kombinációval. Az előbbi csak lefuttatja a kijelölt cellát, míg az utóbbi továbblép a következő cellára és azt jelöli ki.\n",
    "- Ha véletlenül örökké futna egy kódrészlet akkor a standard STOP gombbal állíthatjátok le a futást.\n",
    "- Ha ennél nagyobb a baj akkor a Kernel fül alatt Restartoljatok. \n",
    "- Illetve a változtatásaitokat menteni is kell standard Save gomb vagy CTRL+S."
   ]
  },
  {
   "cell_type": "markdown",
   "metadata": {},
   "source": [
    "#### #1"
   ]
  },
  {
   "cell_type": "code",
   "execution_count": 45,
   "metadata": {},
   "outputs": [
    {
     "name": "stdout",
     "output_type": "stream",
     "text": [
      "3\n"
     ]
    }
   ],
   "source": [
    "x = [3, 5, 24, 9, 15, -4]\n",
    "y = [6, 17, 134, -11, 26, -1]\n",
    "\n",
    "def egy(s,w):\n",
    "    \n",
    "    for n in range(len(s)):\n",
    "        if s[n] > w[n]:\n",
    "            print(n)\n",
    "            \n",
    "egy(x,y)"
   ]
  },
  {
   "cell_type": "markdown",
   "metadata": {},
   "source": [
    "#### #2"
   ]
  },
  {
   "cell_type": "code",
   "execution_count": 46,
   "metadata": {},
   "outputs": [
    {
     "data": {
      "text/plain": [
       "'semmi'"
      ]
     },
     "execution_count": 46,
     "metadata": {},
     "output_type": "execute_result"
    }
   ],
   "source": [
    "def ketto(x, y, z):\n",
    "    \n",
    "    if x + y > z and x + z > y and y + z > x:\n",
    "        a = 'háromszög'\n",
    "    else:\n",
    "        return 'semmi'   \n",
    "    if a == 'háromszög':\n",
    "        return (x, y, z)\n",
    "\n",
    "\n",
    "ketto(1,2,3)"
   ]
  },
  {
   "cell_type": "markdown",
   "metadata": {},
   "source": [
    "#### #3"
   ]
  },
  {
   "cell_type": "code",
   "execution_count": 47,
   "metadata": {},
   "outputs": [
    {
     "name": "stdout",
     "output_type": "stream",
     "text": [
      "2\n",
      "6\n",
      "12\n",
      "20\n",
      "30\n",
      "42\n",
      "56\n",
      "72\n",
      "90\n",
      "110\n",
      "132\n",
      "156\n",
      "182\n",
      "210\n",
      "240\n",
      "272\n",
      "306\n",
      "342\n",
      "380\n",
      "420\n",
      "462\n",
      "506\n",
      "552\n",
      "600\n",
      "650\n",
      "702\n",
      "756\n",
      "812\n",
      "870\n",
      "930\n",
      "992\n",
      "1056\n",
      "1122\n",
      "1190\n",
      "1260\n",
      "1332\n",
      "1406\n",
      "1482\n",
      "1560\n",
      "1640\n",
      "1722\n",
      "1806\n",
      "1892\n",
      "1980\n",
      "2070\n",
      "2162\n",
      "2256\n",
      "2352\n",
      "2450\n",
      "2550\n"
     ]
    }
   ],
   "source": [
    "def harom(k,s):\n",
    "\n",
    "    while k <= 100:\n",
    "        if k % 2 == 0:\n",
    "            s = s + k\n",
    "            print(s)\n",
    "            k=k+1\n",
    "        else:\n",
    "            k=k+1\n",
    "            \n",
    "\n",
    "harom(1,0)"
   ]
  },
  {
   "cell_type": "markdown",
   "metadata": {},
   "source": [
    "#### #4"
   ]
  },
  {
   "cell_type": "code",
   "execution_count": 48,
   "metadata": {},
   "outputs": [
    {
     "name": "stdout",
     "output_type": "stream",
     "text": [
      "False\n",
      "False\n",
      "True\n",
      "False\n"
     ]
    }
   ],
   "source": [
    "g = [0,1,4,3]\n",
    "\n",
    "def negy(t):\n",
    "    \n",
    "    for i in range(len(t)):\n",
    "\n",
    "        if (len('alma') == len(t)) & (t[i] != 4):\n",
    "            print(False)\n",
    "        else:\n",
    "            print(True)\n",
    "            \n",
    "negy(g)"
   ]
  },
  {
   "cell_type": "markdown",
   "metadata": {},
   "source": [
    "#### #5"
   ]
  },
  {
   "cell_type": "code",
   "execution_count": 49,
   "metadata": {},
   "outputs": [
    {
     "data": {
      "text/plain": [
       "[112, 721, 1002]"
      ]
     },
     "execution_count": 49,
     "metadata": {},
     "output_type": "execute_result"
    }
   ],
   "source": [
    "input_lista = [112,4234,721,1002,5982,1035]\n",
    "\n",
    "def ot(z):\n",
    "    out = []\n",
    "\n",
    "    for i in range(len(z)-1):\n",
    "\n",
    "        if z[i] < z[i+1]:\n",
    "            out.append(z[i]) \n",
    "    return out\n",
    "\n",
    "\n",
    "\n",
    "\n",
    "\n",
    "\n",
    "ot(input_lista)"
   ]
  },
  {
   "cell_type": "markdown",
   "metadata": {},
   "source": [
    "#### #6"
   ]
  },
  {
   "cell_type": "code",
   "execution_count": 51,
   "metadata": {},
   "outputs": [
    {
     "ename": "IndentationError",
     "evalue": "expected an indented block (<ipython-input-51-8d351ad6a577>, line 7)",
     "output_type": "error",
     "traceback": [
      "\u001b[0;36m  File \u001b[0;32m\"<ipython-input-51-8d351ad6a577>\"\u001b[0;36m, line \u001b[0;32m7\u001b[0m\n\u001b[0;31m    while x in l == 1:\u001b[0m\n\u001b[0m        ^\u001b[0m\n\u001b[0;31mIndentationError\u001b[0m\u001b[0;31m:\u001b[0m expected an indented block\n"
     ]
    }
   ],
   "source": [
    "# Itt teljesen elvesztettem, hogy mi volt az eredeti kód.\n",
    "\n",
    "l = [1,1,1,1,1]\n",
    "\n",
    "def hat():\n",
    "    \n",
    "while x in l == 1:\n",
    "    print(f\"The current value of l is {l}\")\n",
    "    l += 1\n",
    "    if n == n+1:\n",
    "    print(n)\n",
    "       \n",
    "            \n",
    "else:\n",
    "    print('Error')\n",
    "        \n",
    "\n",
    "hat()"
   ]
  },
  {
   "cell_type": "markdown",
   "metadata": {},
   "source": [
    "#### #7"
   ]
  },
  {
   "cell_type": "code",
   "execution_count": 52,
   "metadata": {},
   "outputs": [
    {
     "name": "stdout",
     "output_type": "stream",
     "text": [
      "10.5\n"
     ]
    }
   ],
   "source": [
    "def het():\n",
    "\n",
    "    genya = 0\n",
    "    mylist = [0,10,0.5]\n",
    "\n",
    "    for i in mylist:\n",
    "        genya += i\n",
    "\n",
    "    print(genya)\n",
    "    \n",
    "het()"
   ]
  },
  {
   "cell_type": "markdown",
   "metadata": {},
   "source": [
    "#### #8"
   ]
  },
  {
   "cell_type": "code",
   "execution_count": 53,
   "metadata": {},
   "outputs": [
    {
     "data": {
      "text/plain": [
       "'kifogytam'"
      ]
     },
     "execution_count": 53,
     "metadata": {},
     "output_type": "execute_result"
    }
   ],
   "source": [
    "def nyolc():\n",
    "    \n",
    "    banka = \"almamáter\"\n",
    "    tanga = \"\"\n",
    "    \n",
    "    for lanka in banka:\n",
    "        if lanka > tanga:\n",
    "            tanga = lanka\n",
    "        else:\n",
    "            return \"kifogytam\"\n",
    "    \n",
    "nyolc()"
   ]
  },
  {
   "cell_type": "markdown",
   "metadata": {},
   "source": [
    "#### #9"
   ]
  },
  {
   "cell_type": "code",
   "execution_count": 54,
   "metadata": {},
   "outputs": [
    {
     "data": {
      "text/plain": [
       "'mmmmm'"
      ]
     },
     "execution_count": 54,
     "metadata": {},
     "output_type": "execute_result"
    }
   ],
   "source": [
    "def kilenc():\n",
    "    árán = \"\"\n",
    "    száján = \"szárán\"\n",
    "    while len(árán) < 5:\n",
    "        árván = száján * 2\n",
    "        kárán = len(száján) // 3\n",
    "        \n",
    "        for bárány in száján:\n",
    "            if száján[kárán] == bárány:\n",
    "                álcám = True\n",
    "            else:\n",
    "                álcám = False\n",
    "        \n",
    "        if álcám:\n",
    "            lányán = False\n",
    "            fácán = True\n",
    "        else:\n",
    "            lányán = True\n",
    "            fácán = False\n",
    "        \n",
    "        if lányán:\n",
    "            árán += \"m\"\n",
    "        elif fácán:\n",
    "            árán += \"n\"\n",
    "        else:\n",
    "            hamutálcán = \"pusztulásán\"\n",
    "            \n",
    "    return árán\n",
    "kilenc()"
   ]
  },
  {
   "cell_type": "code",
   "execution_count": null,
   "metadata": {},
   "outputs": [],
   "source": []
  }
 ],
 "metadata": {
  "kernelspec": {
   "display_name": "Python 3",
   "language": "python",
   "name": "python3"
  },
  "language_info": {
   "codemirror_mode": {
    "name": "ipython",
    "version": 3
   },
   "file_extension": ".py",
   "mimetype": "text/x-python",
   "name": "python",
   "nbconvert_exporter": "python",
   "pygments_lexer": "ipython3",
   "version": "3.7.5"
  }
 },
 "nbformat": 4,
 "nbformat_minor": 4
}
