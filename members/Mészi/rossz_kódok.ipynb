{
 "cells": [
  {
   "cell_type": "markdown",
   "metadata": {},
   "source": [
    "### Mi a hiba az alábbi kódokban? Javítsd ki őket!"
   ]
  },
  {
   "cell_type": "markdown",
   "metadata": {},
   "source": [
    "#### Annyi jupyter tutor, ami ehhez a házihoz remélhetőleg elég lesz.\n",
    "\n",
    "- Úgy jelöltök ki cellát, hogy belekattintotok.\n",
    "- A kijelölt cellát a nagy RUN gombra kattinva tudjátok lefuttatni. Illeve a CTRL+ENTER és SHIFT+ENTER kombinációval. Az előbbi csak lefuttatja a kijelölt cellát, míg az utóbbi továbblép a következő cellára és azt jelöli ki.\n",
    "- Ha véletlenül örökké futna egy kódrészlet akkor a standard STOP gombbal állíthatjátok le a futást.\n",
    "- Ha ennél nagyobb a baj akkor a Kernel fül alatt Restartoljatok. \n",
    "- Illetve a változtatásaitokat menteni is kell standard Save gomb vagy CTRL+S."
   ]
  },
  {
   "cell_type": "markdown",
   "metadata": {},
   "source": [
    "#### #1"
   ]
  },
  {
   "cell_type": "code",
   "execution_count": 2,
   "metadata": {},
   "outputs": [
    {
     "name": "stdout",
     "output_type": "stream",
     "text": [
      "3\n",
      "6\n"
     ]
    }
   ],
   "source": [
    "def egy():\n",
    "    l1 = [3, 5, 24, 9, 15, -4, 87]\n",
    "    l2 = [6, 17, 134, -11, 26, -1, 20]\n",
    "\n",
    "    #A beépített len függvény egy iterálható objektum elemeinek számát adja visszatérési értékként.\n",
    "    #Pl. lista elemeinek száma\n",
    "    for n in range(len(l1)):\n",
    "\n",
    "        if l1[n] > l2[n]:\n",
    "            print(n)\n",
    "egy()"
   ]
  },
  {
   "cell_type": "markdown",
   "metadata": {},
   "source": [
    "#### #2"
   ]
  },
  {
   "cell_type": "code",
   "execution_count": 6,
   "metadata": {},
   "outputs": [
    {
     "name": "stdout",
     "output_type": "stream",
     "text": [
      "(4, 2, 3)\n"
     ]
    }
   ],
   "source": [
    "def ketto(x, y, z):\n",
    "    \n",
    "    if x + y > z and x + z > y and y + z > x:\n",
    "        a = 'háromszög'\n",
    "    else: a = 'humbuk'       \n",
    "    if a == 'háromszög':\n",
    "        return (x, y, z)\n",
    "    else:\n",
    "        return 'semmi'\n",
    "\n",
    "out=ketto(4,2,3)\n",
    "print(out)"
   ]
  },
  {
   "cell_type": "markdown",
   "metadata": {},
   "source": [
    "#### #3"
   ]
  },
  {
   "cell_type": "code",
   "execution_count": 10,
   "metadata": {},
   "outputs": [
    {
     "data": {
      "text/plain": [
       "2550"
      ]
     },
     "execution_count": 10,
     "metadata": {},
     "output_type": "execute_result"
    }
   ],
   "source": [
    "def harom():\n",
    "    k = 1\n",
    "    s = 0\n",
    "\n",
    "    while k <= 100:\n",
    "\n",
    "        if k % 2 == 0:\n",
    "            s = s + k\n",
    "        k=k+1\n",
    "    return s         \n",
    "harom()\n"
   ]
  },
  {
   "cell_type": "markdown",
   "metadata": {},
   "source": [
    "#### #4"
   ]
  },
  {
   "cell_type": "code",
   "execution_count": 64,
   "metadata": {},
   "outputs": [
    {
     "name": "stdout",
     "output_type": "stream",
     "text": [
      "0\n",
      "1\n",
      "3\n"
     ]
    }
   ],
   "source": [
    "def negy():\n",
    "    t = [0,1,4,3]\n",
    "    \n",
    "    for i in range(len(t)):\n",
    "        \n",
    "        if (t[i] < 4):\n",
    "\n",
    "            print(t[i])\n",
    "            \n",
    "negy()\n"
   ]
  },
  {
   "cell_type": "markdown",
   "metadata": {},
   "source": [
    "#### #5"
   ]
  },
  {
   "cell_type": "code",
   "execution_count": 51,
   "metadata": {},
   "outputs": [
    {
     "data": {
      "text/plain": [
       "[112, 721, 1002]"
      ]
     },
     "execution_count": 51,
     "metadata": {},
     "output_type": "execute_result"
    }
   ],
   "source": [
    "def ot():\n",
    "    input_lista = [112,4234,721,1002,5982,1035]\n",
    "    out = []\n",
    "\n",
    "    for i in range(len(input_lista)-1):\n",
    "\n",
    "        if input_lista[i] < input_lista[i+1]:\n",
    "\n",
    "            out.append(input_lista[i])\n",
    "\n",
    "    return out\n",
    "\n",
    "ot()"
   ]
  },
  {
   "cell_type": "markdown",
   "metadata": {},
   "source": [
    "#### #6"
   ]
  },
  {
   "cell_type": "code",
   "execution_count": 83,
   "metadata": {},
   "outputs": [
    {
     "name": "stdout",
     "output_type": "stream",
     "text": [
      "0\n",
      "0\n"
     ]
    }
   ],
   "source": [
    "def hat():\n",
    "    l = [1,1,1,1,3]\n",
    "    i=len(l)-2\n",
    "    j =0\n",
    "#    print(j)\n",
    "    while l[i] == 1: #nincsen neki ötödik eleme, \n",
    "        print(j)\n",
    "        j +=1\n",
    "        if l[i+1] == i:\n",
    "\n",
    "            l[i] += 1\n",
    "\n",
    "        else:\n",
    "\n",
    "            print('Error')\n",
    "            \n",
    "hat()\n",
    "j =0\n",
    "print(j)"
   ]
  },
  {
   "cell_type": "markdown",
   "metadata": {},
   "source": [
    "#### #7"
   ]
  },
  {
   "cell_type": "code",
   "execution_count": 21,
   "metadata": {},
   "outputs": [
    {
     "data": {
      "text/plain": [
       "20"
      ]
     },
     "execution_count": 21,
     "metadata": {},
     "output_type": "execute_result"
    }
   ],
   "source": [
    "def het():\n",
    "    genya = 0\n",
    "    \n",
    "    for i in range(0, 10, 2):\n",
    "        genya += i\n",
    "\n",
    "    return genya\n",
    "    \n",
    "het()"
   ]
  },
  {
   "cell_type": "markdown",
   "metadata": {},
   "source": [
    "#### #8"
   ]
  },
  {
   "cell_type": "code",
   "execution_count": 63,
   "metadata": {},
   "outputs": [
    {
     "data": {
      "text/plain": [
       "['a', 'l', 'm', 'a', 'm', 'á', 't', 'e', 'r']"
      ]
     },
     "execution_count": 63,
     "metadata": {},
     "output_type": "execute_result"
    }
   ],
   "source": [
    "def nyolc():\n",
    "    banka = \"almamáter\"\n",
    "    tanga = []\n",
    "    for lanka in banka:\n",
    "        #print(lanka)\n",
    "        if len(banka) > len(tanga):\n",
    "            tanga.append(lanka)\n",
    "                     \n",
    "        else:\n",
    "            return \"kifogytam\"\n",
    "        \n",
    "    return tanga\n",
    "    \n",
    "nyolc()\n"
   ]
  },
  {
   "cell_type": "markdown",
   "metadata": {},
   "source": [
    "#### #9"
   ]
  },
  {
   "cell_type": "code",
   "execution_count": 75,
   "metadata": {},
   "outputs": [
    {
     "data": {
      "text/plain": [
       "'m'"
      ]
     },
     "execution_count": 75,
     "metadata": {},
     "output_type": "execute_result"
    }
   ],
   "source": [
    "def kilenc():\n",
    "        árán = \"\"\n",
    "        száján = \"szárán\"\n",
    "        \n",
    "        while len(árán) < 5:\n",
    "            \n",
    "            árván = száján * 2\n",
    "            kárán = len(száján) // 3\n",
    "        \n",
    "            for bárány in száján:\n",
    "                \n",
    "                if száján[kárán] == bárány:\n",
    "                    \n",
    "                    álcám = True\n",
    "                \n",
    "                else:\n",
    "                    \n",
    "                    álcám = False\n",
    "        \n",
    "                if álcám:\n",
    "                \n",
    "                    lányán = False\n",
    "                \n",
    "                    fácán = True\n",
    "                    \n",
    "                else:\n",
    "                    lányán = True\n",
    "                    fácán = False\n",
    "        \n",
    "                if lányán:\n",
    "                    árán += \"m\"\n",
    "                    \n",
    "                elif fácán:\n",
    "                    árán += \"n\"\n",
    "                    \n",
    "                else:\n",
    "                    hamutálcán = \"pusztulásán\"\n",
    "            \n",
    "                return árán\n",
    "kilenc()"
   ]
  },
  {
   "cell_type": "code",
   "execution_count": null,
   "metadata": {},
   "outputs": [],
   "source": []
  }
 ],
 "metadata": {
  "kernelspec": {
   "display_name": "Python 3",
   "language": "python",
   "name": "python3"
  },
  "language_info": {
   "codemirror_mode": {
    "name": "ipython",
    "version": 3
   },
   "file_extension": ".py",
   "mimetype": "text/x-python",
   "name": "python",
   "nbconvert_exporter": "python",
   "pygments_lexer": "ipython3",
   "version": "3.7.5"
  }
 },
 "nbformat": 4,
 "nbformat_minor": 4
}
